{
 "cells": [
  {
   "cell_type": "markdown",
   "metadata": {},
   "source": [
    "# Object Detection\n",
    "\n",
    "## Template Matching\n",
    "We have a template that we want to find in a bigger image. The base idea is to take this template and slide it on the whole image finding a match, if any.\n",
    "\n",
    "### MiniProject - Finding Waldo \n"
   ]
  },
  {
   "cell_type": "code",
   "execution_count": 5,
   "metadata": {},
   "outputs": [],
   "source": [
    "import numpy as np\n",
    "import cv2\n",
    "\n",
    "def show_image(img,title=\"img\",waitKey=True):\n",
    "    cv2.imshow(title,img)\n",
    "    if waitKey:\n",
    "        cv2.waitKey(0)\n",
    "        cv2.destroyAllWindows()"
   ]
  },
  {
   "cell_type": "code",
   "execution_count": 21,
   "metadata": {},
   "outputs": [],
   "source": [
    "img = cv2.imread(path+'waldo.jpg')\n",
    "img = cv2.resize(img,None,fx=0.6,fy=0.6)\n",
    "template = cv2.imread(path+'waldo_template.jpg',cv2.IMREAD_GRAYSCALE)\n",
    "template = cv2.resize(template,None,fx=0.6,fy=0.6)\n",
    "gray = cv2.cvtColor(img,cv2.COLOR_BGR2GRAY)\n",
    "show_image(img,\"Where is Waldo?\")\n",
    "\n",
    "result = cv2.matchTemplate(gray,template,cv2.TM_CCOEFF)\n",
    "min_val,max_val,min_loc,max_loc = cv2.minMaxLoc(result)\n",
    "\n",
    "#create bounding box\n",
    "top_left = max_loc\n",
    "bottom_right = (top_left[0]+50,top_left[1]+50)\n",
    "cv2.rectangle(img,top_left,bottom_right,(0,255,0),3)\n",
    "\n",
    "show_image(img,\"...here!\")\n"
   ]
  },
  {
   "cell_type": "markdown",
   "metadata": {},
   "source": [
    "The method here used is the **TM_CCOEFF**, correlation coefficient. This method slides the template on the image and for each pixel area computes the correlation coefficients to determine how good or how bad is the matching.\n",
    "With **minMaxLoc** we take the coordinates of the area with the best correlation coefficients."
   ]
  },
  {
   "cell_type": "markdown",
   "metadata": {},
   "source": [
    "This method is not so good. It is NOT indipendent on scaling, rotation, photometric changes (light, contrast etc), distortion in the point of view."
   ]
  }
 ],
 "metadata": {
  "kernelspec": {
   "display_name": "Python 3",
   "language": "python",
   "name": "python3"
  },
  "language_info": {
   "codemirror_mode": {
    "name": "ipython",
    "version": 3
   },
   "file_extension": ".py",
   "mimetype": "text/x-python",
   "name": "python",
   "nbconvert_exporter": "python",
   "pygments_lexer": "ipython3",
   "version": "3.7.4"
  }
 },
 "nbformat": 4,
 "nbformat_minor": 2
}
