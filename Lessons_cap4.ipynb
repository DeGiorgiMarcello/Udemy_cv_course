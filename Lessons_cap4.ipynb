{
 "cells": [
  {
   "cell_type": "markdown",
   "metadata": {},
   "source": [
    "## Segmentation and image contour"
   ]
  },
  {
   "cell_type": "code",
   "execution_count": 1,
   "metadata": {},
   "outputs": [],
   "source": [
    "import cv2\n",
    "import numpy as np"
   ]
  },
  {
   "cell_type": "code",
   "execution_count": 2,
   "metadata": {},
   "outputs": [],
   "source": [
    "def show_image(img,title=\"img\",waitKey=True):\n",
    "    cv2.imshow(title,img)\n",
    "    if waitKey:\n",
    "        cv2.waitKey(0)\n",
    "        cv2.destroyAllWindows()"
   ]
  },
  {
   "cell_type": "code",
   "execution_count": 6,
   "metadata": {},
   "outputs": [
    {
     "name": "stdout",
     "output_type": "stream",
     "text": [
      "Contours found:  5\n"
     ]
    }
   ],
   "source": [
    "img = cv2.imread('shapes.jpg')\n",
    "gray = cv2.cvtColor(img,cv2.COLOR_BGR2GRAY)\n",
    "#it's better to apply canny before. For example, without Canny the number of contour \n",
    "#would be 1!\n",
    "\n",
    "canny = cv2.Canny(gray,20,200)\n",
    "copy = np.copy(canny)\n",
    "contours, hierarchy = cv2.findContours(copy,cv2.RETR_EXTERNAL,cv2.CHAIN_APPROX_NONE)\n",
    "print(\"Contours found: \",str(len(contours)))\n",
    "#with -1 we draw all the contours\n",
    "cv2.drawContours(img,contour,-1,(0,255,0),3)\n",
    "show_image(img)\n"
   ]
  },
  {
   "cell_type": "markdown",
   "metadata": {},
   "source": [
    "If we print <b>contours</b> we obtain a list of list. In this case we have 5 contours, so we have 5 lists. Each element in each list is the coordinate of a point belonging to that contour. As parameters in findContours, at the approximation, we can use:\n",
    "    \n",
    "    cv2.CHAIN_APPROX_NONE: we store ALL the the points of a contour\n",
    "    cv2.CHAIN_APPROX_SIMPLE: we store only the important points -> start and ending points\n",
    "\n",
    "Another parameter is the **retrieval mode**:\n",
    "\n",
    "    cv2.RETR_LIST: retrieve all the contours\n",
    "    cv2.RETR_EXTERNAL: retrieve external or outer contours only\n",
    "    ... other retrieval method but these are the most useful\n",
    "If for example we have some holes in the shapes, with RETR_LIST we can retrieve also the contours of the holes."
   ]
  },
  {
   "cell_type": "code",
   "execution_count": 55,
   "metadata": {},
   "outputs": [
    {
     "name": "stdout",
     "output_type": "stream",
     "text": [
      "222\n"
     ]
    }
   ],
   "source": [
    "print(contours[0])\n"
   ]
  }
 ],
 "metadata": {
  "celltoolbar": "Raw Cell Format",
  "kernelspec": {
   "display_name": "Python 3",
   "language": "python",
   "name": "python3"
  },
  "language_info": {
   "codemirror_mode": {
    "name": "ipython",
    "version": 3
   },
   "file_extension": ".py",
   "mimetype": "text/x-python",
   "name": "python",
   "nbconvert_exporter": "python",
   "pygments_lexer": "ipython3",
   "version": "3.7.4"
  }
 },
 "nbformat": 4,
 "nbformat_minor": 2
}
