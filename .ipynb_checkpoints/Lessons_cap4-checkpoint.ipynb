{
 "cells": [
  {
   "cell_type": "markdown",
   "metadata": {},
   "source": [
    "## Segmentation and image contour"
   ]
  },
  {
   "cell_type": "code",
   "execution_count": 3,
   "metadata": {},
   "outputs": [],
   "source": [
    "import cv2\n",
    "import numpy as np"
   ]
  },
  {
   "cell_type": "code",
   "execution_count": 4,
   "metadata": {},
   "outputs": [],
   "source": [
    "def show_image(img,title=\"img\",waitKey=True):\n",
    "    cv2.imshow(title,img)\n",
    "    if waitKey:\n",
    "        cv2.waitKey(0)\n",
    "        cv2.destroyAllWindows()"
   ]
  },
  {
   "cell_type": "code",
   "execution_count": 3,
   "metadata": {},
   "outputs": [
    {
     "name": "stdout",
     "output_type": "stream",
     "text": [
      "Contours found:  5\n"
     ]
    }
   ],
   "source": [
    "img = cv2.imread('shapes2.jpg')\n",
    "gray = cv2.cvtColor(img,cv2.COLOR_BGR2GRAY)\n",
    "#it's better to apply canny before. For example, without Canny the number of contour \n",
    "#would be 1!\n",
    "\n",
    "canny = cv2.Canny(gray,20,200)\n",
    "copy = np.copy(canny)\n",
    "contours, hierarchy = cv2.findContours(copy,cv2.RETR_EXTERNAL,cv2.CHAIN_APPROX_NONE)\n",
    "print(\"Contours found: \",str(len(contours)))\n",
    "#with -1 we draw all the contours\n",
    "cv2.drawContours(img,contours,-1,(0,255,0),3)\n",
    "show_image(img)\n"
   ]
  },
  {
   "cell_type": "markdown",
   "metadata": {},
   "source": [
    "If we print <b>contours</b> we obtain a list of list. In this case we have 5 contours, so we have 5 lists. Each element in each list is the coordinate of a point belonging to that contour. As parameters in findContours, at the approximation, we can use:\n",
    "    \n",
    "    cv2.CHAIN_APPROX_NONE: we store ALL the the points of a contour\n",
    "    cv2.CHAIN_APPROX_SIMPLE: we store only the important points -> start and ending points\n",
    "\n",
    "Another parameter is the **retrieval mode**:\n",
    "\n",
    "    cv2.RETR_LIST: retrieve all the contours\n",
    "    cv2.RETR_EXTERNAL: retrieve external or outer contours only\n",
    "    ... other retrieval method but these are the most useful\n",
    "If for example we have some holes in the shapes, with RETR_LIST we can retrieve also the contours of the holes."
   ]
  },
  {
   "cell_type": "markdown",
   "metadata": {},
   "source": [
    "### Area of shapes\n",
    "\n",
    "To compute the area of the contours we can simply use **cv2.contourArea(contour)**\n",
    "Let's calculate the areas and then sort the contours for increasing ara"
   ]
  },
  {
   "cell_type": "code",
   "execution_count": 58,
   "metadata": {},
   "outputs": [
    {
     "name": "stdout",
     "output_type": "stream",
     "text": [
      "Areas before sorting:  [8511.5, 7404.0, 12975.0, 23456.0, 8874.0]\n",
      "Area after sorting:  [7404.0, 8511.5, 8874.0, 12975.0, 23456.0]\n"
     ]
    }
   ],
   "source": [
    "def get_contour_areas(contours):\n",
    "    areas = []\n",
    "    for contour in contours:\n",
    "        areas.append(cv2.contourArea(contour))\n",
    "    return areas\n",
    "\n",
    "print(\"Areas before sorting: \",get_contour_areas(contours))\n",
    "#let's sort:\n",
    "sorted_contours = sorted(contours,key=cv2.contourArea)\n",
    "print(\"Area after sorting: \",get_contour_areas(sorted_contours))\n",
    "\n",
    "#draw a center:\n",
    "copy = np.copy(img)\n",
    "shape=1\n",
    "for c in sorted_contours:\n",
    "    center = np.mean(c,axis=0)\n",
    "    center =  ((int(center[0,0])-5,int(center[0,1])+10))\n",
    "    cv2.putText(copy,str(shape),center,cv2.FONT_HERSHEY_PLAIN,1,(0,0,255),2)\n",
    "    shape+=1\n",
    "show_image(copy,\"Shapes ordered for area\")"
   ]
  },
  {
   "cell_type": "markdown",
   "metadata": {},
   "source": [
    "### Sorting left to right\n",
    "The solutions seen so far for calculating the center of the shape is not ideal, by the moment that it depends on the regularity of the shape. For a complex and unregular shape it wont show the center. In order to get the right center we need to use the momentum.\n",
    "In particularly we need to compute the center of mass of the shapes.\n",
    "**cv2.Moments(c)** allows to compute the moments of the shape. In particular:\n",
    "\n",
    "    M['m00'] correspond to the Area\n",
    "    M['m10'] correspond to the moment of inertia wrt x-axis\n",
    "    M['m01'] correspond to the moment of inertia wrt y-axis"
   ]
  },
  {
   "cell_type": "code",
   "execution_count": 10,
   "metadata": {},
   "outputs": [],
   "source": [
    "img = cv2.imread('shapes2.jpg')\n",
    "copy = np.copy(img)\n",
    "\n",
    "def label_contour_center(image,c):\n",
    "    M = cv2.moments(c)\n",
    "    cx = int(M['m10']/M['m00'])\n",
    "    cy = int(M['m01']/M['m00'])\n",
    "    center = (cx,cy)\n",
    "    cv2.circle(copy,center,10,(0,0,255),-1)\n",
    "    return copy,center\n",
    "\n",
    "centers = []\n",
    "for c in contours:\n",
    "    orig,center = label_contour_center(copy,c)\n",
    "    centers.append(center)\n",
    "    \n",
    "show_image(orig)\n",
    "\n",
    "centers_left_to_right = np.sort(centers,axis=0)\n",
    "\n",
    "for (i,c) in enumerate(centers_left_to_right):\n",
    "    center = (c[0],c[1])\n",
    "    cv2.putText(copy,str(i+1),center,cv2.FONT_HERSHEY_PLAIN,3,(255,0,0),2)\n",
    "show_image(copy)\n"
   ]
  },
  {
   "cell_type": "markdown",
   "metadata": {},
   "source": [
    "With **cv2.boundingRect(c)** we can have the x,y of the top-left corner, width and heigth of the bounding rectangle that contains the shape"
   ]
  },
  {
   "cell_type": "code",
   "execution_count": 8,
   "metadata": {},
   "outputs": [],
   "source": [
    "for c in contours:\n",
    "    x,y,w,h = cv2.boundingRect(c)\n",
    "    cv2.rectangle(copy,(x,y),(x+w,y+h),(255,0,0),3)\n",
    "    \n",
    "show_image(copy)\n",
    "    "
   ]
  },
  {
   "cell_type": "markdown",
   "metadata": {},
   "source": [
    "## Convex hull\n",
    "Convex hull is a poligon created using all the extreme contour points of a shape. It represents the tiniest poligon that can contain the shape.\n",
    "Let's take the image of an hand and apply all the necessary to obtain the contour."
   ]
  },
  {
   "cell_type": "code",
   "execution_count": 9,
   "metadata": {},
   "outputs": [],
   "source": [
    "img = cv2.imread('hand.png')\n",
    "copy = np.copy(img)\n",
    "img_gray = cv2.cvtColor(img,cv2.COLOR_BGR2GRAY)\n",
    "canny = cv2.Canny(img_gray,20,170)\n",
    "contours,hierarchy = cv2.findContours(canny,cv2.RETR_LIST,cv2.CHAIN_APPROX_NONE)\n",
    "cv2.drawContours(copy,contours,-1,(0,255,0),3)\n",
    "show_image(copy,\"contours\")\n",
    "\n",
    "#there are some internal contours that we want to discard. Let's sort using area\n",
    "main_contour = sorted(contours,key=cv2.contourArea,reverse=False)[-1]\n",
    "copy2 = np.copy(img)\n",
    "cv2.drawContours(copy2,main_contour,-1,(0,255,0),3)\n",
    "show_image(copy2,\"Main contour\")\n",
    "\n",
    "hull = cv2.convexHull(main_contour)\n",
    "#hull among square brakets because drawContours want a list as parameter\n",
    "cv2.drawContours(copy2,[hull],-1,(0,255,0),2)\n",
    "show_image(copy2,\"Hull\")\n"
   ]
  },
  {
   "cell_type": "markdown",
   "metadata": {},
   "source": [
    "# Shape matching\n",
    "We have a shape and, in another image, we want to find all the shapes that are similar to the given one, to an arbitrary scale and/or roto-traslation"
   ]
  }
 ],
 "metadata": {
  "celltoolbar": "Raw Cell Format",
  "kernelspec": {
   "display_name": "Python 3",
   "language": "python",
   "name": "python3"
  },
  "language_info": {
   "codemirror_mode": {
    "name": "ipython",
    "version": 3
   },
   "file_extension": ".py",
   "mimetype": "text/x-python",
   "name": "python",
   "nbconvert_exporter": "python",
   "pygments_lexer": "ipython3",
   "version": "3.7.4"
  }
 },
 "nbformat": 4,
 "nbformat_minor": 2
}
