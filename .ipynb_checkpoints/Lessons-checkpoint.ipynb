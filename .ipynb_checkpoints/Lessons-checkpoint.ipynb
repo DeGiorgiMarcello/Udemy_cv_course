{
 "cells": [
  {
   "cell_type": "code",
   "execution_count": 1,
   "metadata": {},
   "outputs": [],
   "source": [
    "import cv2\n",
    "import numpy as np\n",
    "import matplotlib.pyplot as plt"
   ]
  },
  {
   "cell_type": "code",
   "execution_count": 2,
   "metadata": {},
   "outputs": [],
   "source": [
    "def show_image(img,title=\"img\",waitKey=True):\n",
    "    cv2.imshow(title,img)\n",
    "    plt.show()\n",
    "    if waitKey:\n",
    "        cv2.waitKey(0)\n",
    "        cv2.destroyAllWindows()"
   ]
  },
  {
   "cell_type": "markdown",
   "metadata": {},
   "source": [
    "<h1> Stuff with histograms and drawings on image </h1>"
   ]
  },
  {
   "cell_type": "code",
   "execution_count": 77,
   "metadata": {},
   "outputs": [
    {
     "data": {
      "image/png": "[encoded data removed]",
      "text/plain": [
       "<Figure size 720x360 with 1 Axes>"
      ]
     },
     "metadata": {
      "needs_background": "light"
     },
     "output_type": "display_data"
    }
   ],
   "source": [
    "img = cv2.imread('img.png')\n",
    "\n",
    "colors = ('b','g','r')\n",
    "plt.figure(figsize=(10,5))\n",
    "for i,col in enumerate(colors):\n",
    "    flat_img = img[:,:,i].flatten()\n",
    "    hist,bins = np.histogram(flat_img,256,(0,256))\n",
    "    plt.plot(hist,color=col)\n",
    "plt.show()"
   ]
  },
  {
   "cell_type": "code",
   "execution_count": 89,
   "metadata": {},
   "outputs": [],
   "source": [
    "img = np.zeros((512,512,3),np.uint8)\n",
    "\n"
   ]
  },
  {
   "cell_type": "code",
   "execution_count": null,
   "metadata": {},
   "outputs": [],
   "source": [
    "copy = np.copy(img)\n",
    "cv2.line(copy,(50,50),(461,461),(0,0,255),5)\n",
    "cv2.rectangle(copy,(50,50),(461,461),(255,0,0),5)\n",
    "cv2.circle(copy,(256,256),461-256,(0,255,0),5)\n",
    "cv2.imshow(\"img\",copy)\n",
    "cv2.waitKey(0)\n",
    "cv2.destroyAllWindows()"
   ]
  },
  {
   "cell_type": "code",
   "execution_count": 97,
   "metadata": {},
   "outputs": [],
   "source": [
    "copy = np.copy(img)\n",
    "pts_array = np.array([[50,50],[60,23],[250,124],[125,259]])\n",
    "pts = pts_array.reshape(-1,1,2)\n",
    "poly = cv2.polylines(copy,[pts],True,[0,255,255],3)\n",
    "cv2.imshow(\"poly\",poly)\n",
    "cv2.waitKey(0)\n",
    "cv2.destroyAllWindows()"
   ]
  },
  {
   "cell_type": "markdown",
   "metadata": {},
   "source": [
    "<h1>Image Transformation</h1>"
   ]
  },
  {
   "cell_type": "markdown",
   "metadata": {},
   "source": [
    "<h2> Translation </h2>"
   ]
  },
  {
   "cell_type": "code",
   "execution_count": 133,
   "metadata": {},
   "outputs": [],
   "source": [
    "img = cv2.imread('img.png')\n",
    "copy = np.copy(img)\n",
    "h,w = img.shape[:2]\n",
    "\n"
   ]
  },
  {
   "cell_type": "code",
   "execution_count": 123,
   "metadata": {},
   "outputs": [],
   "source": [
    "quarter_h,quarter_w = h/4,w/4\n",
    "#Let's create the translation matrix\n",
    "T = np.array([[1,0,quarter_w],[0,1,quarter_h]],np.float32)\n",
    "\n",
    "#warpAffine for translation\n",
    "trans_img = cv2.warpAffine(copy,T,(w,h))\n",
    "show_image(trans_img,(\"Translated\"))\n"
   ]
  },
  {
   "cell_type": "markdown",
   "metadata": {},
   "source": [
    "<h2>Rotation</h2>"
   ]
  },
  {
   "cell_type": "code",
   "execution_count": 137,
   "metadata": {},
   "outputs": [],
   "source": [
    "copy = np.copy(img)\n",
    "#we want to rotate the image around his centre.\n",
    "R = cv2.getRotationMatrix2D((w/2,h/2),90, 0.5)\n",
    "rot_img = cv2.warpAffine(copy,R,(w,h))\n",
    "show_image(rot_img,\"Rotated\")"
   ]
  },
  {
   "cell_type": "markdown",
   "metadata": {},
   "source": [
    "<h2> Scaling, resizing and interpolation </h2>\n",
    "\n",
    "cv2.resize(src, dsize, fx, fy, interpolation)\n",
    "<ul>\n",
    "    <li>dsize = size of the output image. If specified fx and fy are not needed\n",
    "    <li>fx = scaling factor on x axis\n",
    "    <li>fy = scaling factor on y axis\n",
    "    <li>interpolation = type of interpolation. Linear by default\n",
    "</ul>"
   ]
  },
  {
   "cell_type": "code",
   "execution_count": 159,
   "metadata": {},
   "outputs": [],
   "source": [
    "copy = np.copy(img)\n",
    "\n",
    "img_resized = cv2.resize(copy,None,fx=0.75,fy=0.75)\n",
    "show_image(img_resized,\"Resized a quarter\")\n",
    "img_resized = cv2.resize(copy,(700,512),interpolation=cv2.INTER_CUBIC)\n",
    "show_image(img_resized,\"Resized\")\n"
   ]
  },
  {
   "cell_type": "markdown",
   "metadata": {},
   "source": [
    "<h2> Cropping </h2>\n",
    "Cropping is easily made using numpy, defining starting and ending rows and columns and then selecting them."
   ]
  },
  {
   "cell_type": "code",
   "execution_count": 171,
   "metadata": {},
   "outputs": [
    {
     "name": "stdout",
     "output_type": "stream",
     "text": [
      "(144, 256, 3)\n"
     ]
    }
   ],
   "source": [
    "copy = np.copy(img)\n",
    "start_row,start_col = int(w*0.25),int(h*0.25)\n",
    "end_row,end_col = int(w*0.75),int(h*0.75)\n",
    "cropped = img[start_col:end_col,start_row:end_row]\n",
    "print(cropped.shape)\n",
    "cv2.imshow('original',copy)\n",
    "show_image(cropped,\"crop\")"
   ]
  },
  {
   "cell_type": "markdown",
   "metadata": {},
   "source": [
    "<h1> Intensity transformation </h1>\n",
    "The method presented is very easy and silly. It shifts the histogram forward or backward, with the effect of going above 256 or below 0."
   ]
  },
  {
   "cell_type": "code",
   "execution_count": 4,
   "metadata": {},
   "outputs": [],
   "source": [
    "image = cv2.imread('img2.jpg',cv2.IMREAD_GRAYSCALE)\n",
    "image = cv2.resize(image,None,fx=0.15,fy=0.15)"
   ]
  },
  {
   "cell_type": "code",
   "execution_count": null,
   "metadata": {},
   "outputs": [],
   "source": [
    "copy = np.copy(image)\n",
    "h,w = copy.shape[:2]\n",
    "flatten = copy.flatten()\n",
    "hist,bins = np.histogram(flatten,256,(0,256))\n",
    "plt.title(\"Original histogram\")\n",
    "plt.plot(hist)\n",
    "mat = np.ones((h,w),dtype=np.uint8)*50\n",
    "out = np.subtract(copy,mat)\n",
    "flat_out = out.flatten()\n",
    "hist2,_ = np.histogram(flat_out,256,(0,256))\n",
    "plt.title(\"Subtracted histogram\")\n",
    "plt.plot(hist2)\n",
    "show_image(copy,\"Original\",False)\n",
    "show_image(out,\"Subtracted\")"
   ]
  },
  {
   "cell_type": "markdown",
   "metadata": {},
   "source": [
    "<h2> Sharpening </h2>\n",
    "Sharpening is used to obtain an higher constrant on all the edges"
   ]
  },
  {
   "cell_type": "code",
   "execution_count": 5,
   "metadata": {},
   "outputs": [],
   "source": [
    "copy = np.copy(image)\n",
    "sharp_kernel = np.array([[-1,-1,-1,],\n",
    "                         [-1,9,-1],\n",
    "                         [-1,-1,-1]]\n",
    "                        ,dtype=np.float32)\n",
    "out = cv2.filter2D(copy,-1,sharp_kernel)\n",
    "show_image(copy,\"Original\",False)\n",
    "show_image(out,\"Sharpened\")"
   ]
  },
  {
   "cell_type": "markdown",
   "metadata": {},
   "source": [
    "<h2> Thresholding </h2>\n",
    "There is an opencv's function for thresholding. It can have different parameter with different output.\n",
    "\n",
    "Parameters:\n",
    "<ul>\n",
    "    <li> cv2.TRESH_BINARY\n",
    "    <li> cv2.TRESH_BINARY_INV\n",
    "    <li> cv2.TRESH_TRUNC\n",
    "    <li> cv2.TRESH_TOZERO\n",
    "    <li> cv2.TRESH_TOZERO_INV"
   ]
  },
  {
   "cell_type": "code",
   "execution_count": 13,
   "metadata": {},
   "outputs": [],
   "source": [
    "copy = np.copy(image)\n",
    "ret,tresh = cv2.threshold(copy,150,255,cv2.THRESH_BINARY)\n",
    "show_image(tresh,\"thresholded\")"
   ]
  },
  {
   "cell_type": "markdown",
   "metadata": {},
   "source": [
    "<h2> Adaptive Thresholding </h2>\n",
    "The adaptive thresholding set automatically a treshold.\n",
    "\n",
    "cv2.adaptiveThreshold(image,MAXVALUE,adaptive_type,\n",
    "                    ThresholdType,block size,constant that is subtracted from mean)"
   ]
  },
  {
   "cell_type": "code",
   "execution_count": 41,
   "metadata": {},
   "outputs": [],
   "source": [
    "#Sometimes it could be useful to apply first a gaussian blur\n",
    "def gaussian_blur(img,sigma):\n",
    "    k = 3*sigma\n",
    "    k_size = int(2*k+1)\n",
    "    gk = cv2.getGaussianKernel(k_size,sigma)\n",
    "    img = cv2.filter2D(img,-1,gk)\n",
    "    img = cv2.filter2D(img,-1,gk.T)\n",
    "    return img"
   ]
  },
  {
   "cell_type": "code",
   "execution_count": 50,
   "metadata": {},
   "outputs": [],
   "source": [
    "book_img = cv2.imread('book.jpg',cv2.IMREAD_GRAYSCALE)\n",
    "book_img = cv2.resize(book_img,None,fx=0.3,fy=0.3)\n",
    "copy = np.copy(book_img)\n",
    "#copy = gaussian_blur(copy,1)\n",
    ".\n",
    "_,otsu = cv2.threshold(copy,0,255,cv2.THRESH_BINARY + cv2.THRESH_OTSU)\n",
    "show_image(otsu,'Otsu')\n",
    "cv2.imshow(\"Adaptive\",thresh)\n",
    "cv2.waitKey()\n",
    "cv2.destroyAllWindows()"
   ]
  },
  {
   "cell_type": "markdown",
   "metadata": {},
   "source": [
    "## Dilation, erosion, opening and closing\n"
   ]
  },
  {
   "cell_type": "code",
   "execution_count": 6,
   "metadata": {},
   "outputs": [],
   "source": [
    "img = cv2.imread(\"img_bw.jpg\",cv2.IMREAD_GRAYSCALE)\n",
    "img_inv = cv2.bitwise_not(img)\n",
    "show_image(img_inv,\"original\",waitKey=False)\n",
    "#let's define a kernel\n",
    "kernel = np.ones((5,5),dtype=np.uint8)\n",
    "\n",
    "erosion = cv2.erode(img_inv,kernel,iterations=1)\n",
    "show_image(erosion,\"erosion\",waitKey=False)\n",
    "\n",
    "dilation = cv2.dilate(img_inv,kernel,iterations=1)\n",
    "show_image(dilation,\"dilation\",waitKey=False)\n",
    "\n",
    "opening = cv2.morphologyEx(img_inv,cv2.MORPH_OPEN,kernel)\n",
    "show_image(opening,\"opening\",waitKey=False)\n",
    "\n",
    "closing = cv2.morphologyEx(img_inv,cv2.MORPH_CLOSE,kernel)\n",
    "show_image(closing,\"closing\",waitKey=True)"
   ]
  },
  {
   "cell_type": "markdown",
   "metadata": {},
   "source": [
    "## Edge detection and Image gradients\n",
    "An edge is given by a suddenly change of intensity in pixels, so we have to consider the gradient of the image in order to detect edges."
   ]
  },
  {
   "cell_type": "markdown",
   "metadata": {},
   "source": [
    "<h3> Sobel edge detector</h3>\n",
    "<ul>\n",
    "<li>grad_x = Sobel(img, ddepth, 1, 0, ksize)\n",
    "<li>grad_y = Sobel(img, ddepth, 0, 1, ksize)\n",
    "</ul>\n",
    "where: \n",
    "<ul>\n",
    "<li>ddepth: The depth of the output image.\n",
    "<li>x_order: The order of the derivative in x direction.\n",
    "<li>y_order: The order of the derivative in y direction.\n",
    "</ul>\n"
   ]
  },
  {
   "cell_type": "code",
   "execution_count": 51,
   "metadata": {},
   "outputs": [],
   "source": [
    "img = cv2.imread('basenji.jpg',cv2.IMREAD_GRAYSCALE)\n",
    "img = cv2.resize(img,None,fx=0.5,fy=0.5)\n",
    "h,w = img.shape[:2]\n",
    "show_image(img,\"original\")\n",
    "#extract Sobel edges -> to extract the Sobel gradient on x and y axes we can write the \n",
    "#kernels (are the same, but trasposed). cv2 has a function to do it automatically\n",
    "sobel_x = cv2.Sobel(img,cv2.CV_64F,0,1,ksize=5)\n",
    "sobel_y = cv2.Sobel(img,cv2.CV_64F,1,0,ksize=5)\n",
    "show_image(sobel_x,'X',False)\n",
    "show_image(sobel_y,'Y',True)\n",
    "#now we have to put all together with a bitwise operation\n",
    "sobel_or = cv2.bitwise_or(sobel_x,sobel_y)\n",
    "show_image(sobel_or,\"Sobel\")\n"
   ]
  },
  {
   "cell_type": "markdown",
   "metadata": {},
   "source": [
    "<h3> Laplacian edge detector</h3>"
   ]
  },
  {
   "cell_type": "code",
   "execution_count": 24,
   "metadata": {},
   "outputs": [],
   "source": [
    "laplacian = cv2.Laplacian(img,cv2.CV_64F)\n",
    "show_image(laplacian,\"Laplacian\")"
   ]
  },
  {
   "cell_type": "markdown",
   "metadata": {},
   "source": [
    "<h3> Canny's edge detector</h3>\n",
    "We set two threshold,t1 and t2. Gradient values above t2 are edges, values below t1 are NOT edges. Values among the two thresholds are considered edge if and only if the pixels are connected."
   ]
  },
  {
   "cell_type": "code",
   "execution_count": 47,
   "metadata": {},
   "outputs": [],
   "source": [
    "canny = cv2.Canny(img,60,100)\n",
    "show_image(canny,\"Canny's edge detector\")"
   ]
  },
  {
   "cell_type": "markdown",
   "metadata": {},
   "source": [
    "## Perspective of non affine transforms"
   ]
  },
  {
   "cell_type": "code",
   "execution_count": 81,
   "metadata": {},
   "outputs": [],
   "source": [
    "img = cv2.imread('img_warping.jpg')\n",
    "h,w=img.shape[:2]\n",
    "show_image(img,\"Original\")\n",
    "#coordinates of the 4 corners of the original image\n",
    "#I've taken them with the visualizationTool\n",
    "points_A = np.array([[359,512],\n",
    "                     [597,327],\n",
    "                     [947,829],\n",
    "                     [1079,523]],dtype=np.float32)\n",
    "\n",
    "#coordinates of the 4 corners of the desired image\n",
    "points_B = np.array([[0,0],\n",
    "                     [420,0],\n",
    "                     [0,594],\n",
    "                     [420,594]],dtype=np.float32)\n",
    "\n",
    "#we compute with the 4 couples of points the perspective projection matrix M \n",
    "M = cv2.getPerspectiveTransform(points_A,points_B)\n",
    "\n",
    "warped = cv2.warpPerspective(img,M,(420,594))\n",
    "\n",
    "show_image(warped,\"Warped\")\n"
   ]
  },
  {
   "cell_type": "code",
   "execution_count": null,
   "metadata": {},
   "outputs": [],
   "source": []
  }
 ],
 "metadata": {
  "kernelspec": {
   "display_name": "Python 3",
   "language": "python",
   "name": "python3"
  },
  "language_info": {
   "codemirror_mode": {
    "name": "ipython",
    "version": 3
   },
   "file_extension": ".py",
   "mimetype": "text/x-python",
   "name": "python",
   "nbconvert_exporter": "python",
   "pygments_lexer": "ipython3",
   "version": "3.7.4"
  }
 },
 "nbformat": 4,
 "nbformat_minor": 2
}
